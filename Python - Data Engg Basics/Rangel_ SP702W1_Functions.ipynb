{
 "cells": [
  {
   "cell_type": "code",
   "execution_count": 43,
   "id": "dac02702",
   "metadata": {},
   "outputs": [
    {
     "name": "stdout",
     "output_type": "stream",
     "text": [
      "1\n",
      "2\n",
      "3\n",
      "5\n",
      "7\n",
      "11\n",
      "13\n",
      "17\n",
      "19\n",
      "23\n",
      "29\n",
      "31\n",
      "37\n",
      "41\n",
      "43\n",
      "47\n",
      "53\n",
      "59\n",
      "61\n",
      "67\n",
      "71\n",
      "73\n",
      "79\n",
      "83\n",
      "89\n",
      "97\n",
      "101\n",
      "103\n",
      "107\n",
      "109\n",
      "113\n",
      "127\n",
      "131\n",
      "137\n",
      "139\n",
      "149\n",
      "151\n",
      "157\n",
      "163\n",
      "167\n",
      "173\n",
      "179\n",
      "181\n",
      "191\n",
      "193\n",
      "197\n",
      "199\n"
     ]
    }
   ],
   "source": [
    "for m in range(1,200): #Iterate through each number from 1 to 200.\n",
    "    for n in range(2,m): #Iterate through each possible divisor for each number.\n",
    "        if m%n == 0: # When divisible by number other than 1, leave loop.\n",
    "            break;\n",
    "    else:\n",
    "        print(m)"
   ]
  },
  {
   "cell_type": "code",
   "execution_count": 44,
   "id": "dcf29091",
   "metadata": {},
   "outputs": [],
   "source": [
    "def product(num1, num2):\n",
    "    prod = num1*num2\n",
    "    if prod > 500:\n",
    "        print('Higher')\n",
    "    elif prod < 500:\n",
    "        print('Lower')\n",
    "    elif prod == 500:\n",
    "        print(f'The product of {num1} and {num2} is exactly 500.')"
   ]
  },
  {
   "cell_type": "code",
   "execution_count": 45,
   "id": "5307f910",
   "metadata": {},
   "outputs": [],
   "source": [
    "# Function rounds to 2 decimal places.\n",
    "def converter(inches):\n",
    "    feet = round(inches/12, 2)\n",
    "    return (f'{feet} feet')"
   ]
  },
  {
   "cell_type": "code",
   "execution_count": 46,
   "id": "052187f8",
   "metadata": {},
   "outputs": [
    {
     "name": "stdout",
     "output_type": "stream",
     "text": [
      "Lower\n",
      "The product of 50 and 10 is exactly 500.\n",
      "Higher\n"
     ]
    },
    {
     "data": {
      "text/plain": [
       "'9.58 feet'"
      ]
     },
     "execution_count": 46,
     "metadata": {},
     "output_type": "execute_result"
    }
   ],
   "source": [
    "product(10,20)\n",
    "product(50,10)\n",
    "product(100,200)\n",
    "converter(115)"
   ]
  }
 ],
 "metadata": {
  "kernelspec": {
   "display_name": "Python 3",
   "language": "python",
   "name": "python3"
  },
  "language_info": {
   "codemirror_mode": {
    "name": "ipython",
    "version": 3
   },
   "file_extension": ".py",
   "mimetype": "text/x-python",
   "name": "python",
   "nbconvert_exporter": "python",
   "pygments_lexer": "ipython3",
   "version": "3.8.8"
  }
 },
 "nbformat": 4,
 "nbformat_minor": 5
}
